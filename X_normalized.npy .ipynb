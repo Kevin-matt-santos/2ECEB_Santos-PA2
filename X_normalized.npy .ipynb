{
 "cells": [
  {
   "cell_type": "code",
   "execution_count": 1,
   "metadata": {},
   "outputs": [],
   "source": [
    "import numpy as np"
   ]
  },
  {
   "cell_type": "code",
   "execution_count": null,
   "metadata": {},
   "outputs": [],
   "source": []
  },
  {
   "cell_type": "code",
   "execution_count": 16,
   "metadata": {},
   "outputs": [
    {
     "data": {
      "text/plain": [
       "array([[-0.50233415, -1.99577487, -1.2777293 ,  0.73080885, -0.1009949 ],\n",
       "       [-0.86054009, -0.01872879, -0.41826658, -0.01498026,  1.35566572],\n",
       "       [-1.16207392, -1.02230775,  1.08007592, -0.2980463 ,  1.73014116],\n",
       "       [-0.02732705,  1.86937118,  0.93443243,  0.7138868 ,  0.61793579],\n",
       "       [-1.05898644,  0.51894455, -1.15625495,  0.93517977, -0.57209682]])"
      ]
     },
     "execution_count": 16,
     "metadata": {},
     "output_type": "execute_result"
    }
   ],
   "source": [
    "#Making an 5x5 array with random values inside the variable X\n",
    "X = np.random.random((5,5))\n",
    "\n",
    "#Finding the square root of each values in the array X\n",
    "f = np.std(X)\n",
    "\n",
    "# Finding the mean of all the values inside the array\n",
    "v = np.mean(X)\n",
    "\n",
    "#Formula for Normalization, used on each value in the array\n",
    "z = (X - v) / f\n",
    "\n",
    "#Print the final values after the Normalization solution\n",
    "z\n"
   ]
  },
  {
   "cell_type": "code",
   "execution_count": null,
   "metadata": {},
   "outputs": [],
   "source": [
    "\n"
   ]
  }
 ],
 "metadata": {
  "kernelspec": {
   "display_name": "Python 3 (ipykernel)",
   "language": "python",
   "name": "python3"
  },
  "language_info": {
   "codemirror_mode": {
    "name": "ipython",
    "version": 3
   },
   "file_extension": ".py",
   "mimetype": "text/x-python",
   "name": "python",
   "nbconvert_exporter": "python",
   "pygments_lexer": "ipython3",
   "version": "3.12.4"
  }
 },
 "nbformat": 4,
 "nbformat_minor": 4
}
