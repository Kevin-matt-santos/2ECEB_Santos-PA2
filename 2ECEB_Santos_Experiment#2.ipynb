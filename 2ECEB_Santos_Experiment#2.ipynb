{
 "cells": [
  {
   "cell_type": "markdown",
   "id": "62d8823a-77ba-493d-b3eb-bbe28d77f060",
   "metadata": {},
   "source": [
    "## NORMALIZATION PROBLEM\n"
   ]
  },
  {
   "cell_type": "code",
   "execution_count": 2,
   "id": "a8131074-6724-495e-bd2c-bf7930fc7bfa",
   "metadata": {},
   "outputs": [],
   "source": [
    "import numpy as np"
   ]
  },
  {
   "cell_type": "code",
   "execution_count": 3,
   "id": "683cdff4-64f2-43c3-a1a4-c75064bfc93b",
   "metadata": {},
   "outputs": [
    {
     "name": "stdout",
     "output_type": "stream",
     "text": [
      "[[-1.47408233  1.22024519 -1.50087483  1.53789294 -0.27483147]\n",
      " [-0.82587668  0.08033121  0.14796742  0.76299681  1.06295479]\n",
      " [ 0.30265426 -0.46198657 -0.76811882 -1.0020956  -1.45703485]\n",
      " [ 1.10434712  0.29018808 -0.91200695  1.29626906  1.519171  ]\n",
      " [ 0.29262041 -1.59230065  0.70815112 -0.71832689  0.66174624]]\n",
      "\n",
      "The work has been saved at 'X_normalized.npy' \n"
     ]
    }
   ],
   "source": [
    "#Making an 5x5 array with random values inside the variable X\n",
    "X = np.random.random((5,5))\n",
    "\n",
    "#Finding the standard devi of each values in the array X\n",
    "\n",
    "f = np.std(X)\n",
    "\n",
    "#Finding the mean of all the values inside the array\n",
    "\n",
    "v = np.mean(X)\n",
    "\n",
    "#Formula for Normalization, used on each value in the array\n",
    "\n",
    "z = (X - v) / f\n",
    "\n",
    "#Print the final values after the Normalization solution\n",
    "print (z)\n",
    "\n",
    "#save array Z using the file name X_normalized.npy and printing that its succesfully saved\n",
    "np.save('X_normalized.npy', z)\n",
    "\n",
    "print (\"\\nThe work has been saved at 'X_normalized.npy' \")"
   ]
  },
  {
   "cell_type": "markdown",
   "id": "4352cb32-9a07-4089-8ce7-9e73aecda093",
   "metadata": {},
   "source": [
    "## DIVISIBLE BY 3 PROBLEM"
   ]
  },
  {
   "cell_type": "code",
   "execution_count": 5,
   "id": "da54d453-f706-4080-a558-2f33b52a4e19",
   "metadata": {},
   "outputs": [
    {
     "name": "stdout",
     "output_type": "stream",
     "text": [
      "[[  1   2   3   4   5   6   7   8   9  10]\n",
      " [ 11  12  13  14  15  16  17  18  19  20]\n",
      " [ 21  22  23  24  25  26  27  28  29  30]\n",
      " [ 31  32  33  34  35  36  37  38  39  40]\n",
      " [ 41  42  43  44  45  46  47  48  49  50]\n",
      " [ 51  52  53  54  55  56  57  58  59  60]\n",
      " [ 61  62  63  64  65  66  67  68  69  70]\n",
      " [ 71  72  73  74  75  76  77  78  79  80]\n",
      " [ 81  82  83  84  85  86  87  88  89  90]\n",
      " [ 91  92  93  94  95  96  97  98  99 100]]\n",
      "\n",
      "[   9   36   81  144  225  324  441  576  729  900 1089 1296 1521 1764\n",
      " 2025 2304 2601 2916 3249 3600 3969 4356 4761 5184 5625 6084 6561 7056\n",
      " 7569 8100 8649 9216 9801]\n",
      "\n",
      "The work has been saved at 'div_by_3.npy' \n"
     ]
    }
   ],
   "source": [
    "import numpy as np\n",
    "\n",
    "#Making an Array with the values 1 to 100 inside the variable ndarray\n",
    "\n",
    "ndarray = np.arange(1,101,1)\n",
    "\n",
    "#Organizing the array by 10x10 in ascending order\n",
    "\n",
    "c = ndarray.reshape(10, 10)\n",
    "\n",
    "#Squaring all numbers in the array\n",
    "\n",
    "d = np.square(c)\n",
    "\n",
    "#Storing all elements that are divisible by 3 at variable e\n",
    "\n",
    "e = d[d % 3 == 0]\n",
    "\n",
    "#Printing the variable c which contains the values 1 to 100 in an 10x10 array\n",
    "\n",
    "print (c)\n",
    "\n",
    "#Space for asthethic\n",
    "\n",
    "print ()\n",
    "\n",
    "#Printing the variable e which contains all values divisible by 3\n",
    "\n",
    "print (e)\n",
    "\n",
    "#save array using the file name div_by_3.npy and printing that it is saved. \n",
    "np.save('div_by_3.npy', e)\n",
    "\n",
    "print (\"\\nThe work has been saved at 'div_by_3.npy' \")"
   ]
  },
  {
   "cell_type": "code",
   "execution_count": null,
   "id": "d074dd7a-36a0-4cee-817c-6606731b0a02",
   "metadata": {},
   "outputs": [],
   "source": []
  }
 ],
 "metadata": {
  "kernelspec": {
   "display_name": "Python 3 (ipykernel)",
   "language": "python",
   "name": "python3"
  },
  "language_info": {
   "codemirror_mode": {
    "name": "ipython",
    "version": 3
   },
   "file_extension": ".py",
   "mimetype": "text/x-python",
   "name": "python",
   "nbconvert_exporter": "python",
   "pygments_lexer": "ipython3",
   "version": "3.12.4"
  }
 },
 "nbformat": 4,
 "nbformat_minor": 5
}
