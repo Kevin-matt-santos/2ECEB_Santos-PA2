{
 "cells": [
  {
   "cell_type": "markdown",
   "id": "e05f4fb8-18a7-4bd8-8ac7-7b19d17c75f0",
   "metadata": {},
   "source": [
    "# NORMALIZATION PROBLEM\n"
   ]
  },
  {
   "cell_type": "code",
   "execution_count": 2,
   "id": "fea1c741-d461-4409-ad29-dbafb7c8154d",
   "metadata": {},
   "outputs": [],
   "source": [
    "import numpy as np"
   ]
  },
  {
   "cell_type": "code",
   "execution_count": 5,
   "id": "3318506c-1aff-4513-82f6-a76df4d38d41",
   "metadata": {},
   "outputs": [
    {
     "name": "stdout",
     "output_type": "stream",
     "text": [
      "[[ 1.39774451  0.39946808 -0.08369467 -0.420345    1.60448799]\n",
      " [-1.19555874 -1.27038767  0.81822694 -0.92477011  0.87769684]\n",
      " [ 0.55723043 -1.29297451 -0.48753214 -0.7042801   0.93437336]\n",
      " [ 1.67596291 -0.45673255 -0.7530534   0.42233014 -1.08341947]\n",
      " [ 1.05200001  1.51119695 -0.73362862 -0.35861415 -1.48572703]]\n",
      "\n",
      "The work has been saved at 'X_normalized.npy' \n"
     ]
    }
   ],
   "source": [
    "X = np.random.random((5,5))\n",
    "\n",
    "#Finding the square root of each values in the array X\n",
    "\n",
    "f = np.std(X)\n",
    "\n",
    "#Finding the mean of all the values inside the array\n",
    "\n",
    "v = np.mean(X)\n",
    "\n",
    "#Formula for Normalization, used on each value in the array\n",
    "\n",
    "z = (X - v) / f\n",
    "\n",
    "#Print the final values after the Normalization solution\n",
    "print (z)\n",
    "\n",
    "#save array Z using the file name X_normalized.npy and printing that its succesfully saved\n",
    "np.save('X_normalized.npy', z)\n",
    "\n",
    "print (\"\\nThe work has been saved at 'X_normalized.npy' \")\n"
   ]
  },
  {
   "cell_type": "markdown",
   "id": "9ee2d26c-d6cd-4606-98b5-66fb8a1dc6c4",
   "metadata": {},
   "source": [
    "# DIVISIBLE BY 3 PROBLEM\n",
    "\n"
   ]
  },
  {
   "cell_type": "code",
   "execution_count": 10,
   "id": "72162970-7260-4e44-8a66-a872256c1893",
   "metadata": {},
   "outputs": [
    {
     "name": "stdout",
     "output_type": "stream",
     "text": [
      "[[  1   2   3   4   5   6   7   8   9  10]\n",
      " [ 11  12  13  14  15  16  17  18  19  20]\n",
      " [ 21  22  23  24  25  26  27  28  29  30]\n",
      " [ 31  32  33  34  35  36  37  38  39  40]\n",
      " [ 41  42  43  44  45  46  47  48  49  50]\n",
      " [ 51  52  53  54  55  56  57  58  59  60]\n",
      " [ 61  62  63  64  65  66  67  68  69  70]\n",
      " [ 71  72  73  74  75  76  77  78  79  80]\n",
      " [ 81  82  83  84  85  86  87  88  89  90]\n",
      " [ 91  92  93  94  95  96  97  98  99 100]]\n",
      "\n",
      "[   9   36   81  144  225  324  441  576  729  900 1089 1296 1521 1764\n",
      " 2025 2304 2601 2916 3249 3600 3969 4356 4761 5184 5625 6084 6561 7056\n",
      " 7569 8100 8649 9216 9801]\n",
      "\n",
      "The work has been saved at 'div_by_3.npy' \n"
     ]
    }
   ],
   "source": [
    "import numpy as np\n",
    "\n",
    "#Making an Array with the values 1 to 100 inside the variable ndarray\n",
    "\n",
    "ndarray = np.arange(1,101,1)\n",
    "\n",
    "#Organizing the array by 10x10 in ascending order\n",
    "\n",
    "c = ndarray.reshape(10, 10)\n",
    "\n",
    "#Squaring all numbers in the array\n",
    "\n",
    "d = np.square(c)\n",
    "\n",
    "#Storing all elements that are divisible by 3 at variable e\n",
    "\n",
    "e = d[d % 3 == 0]\n",
    "\n",
    "#Printing the variable c which contains the values 1 to 100 in an 10x10 array\n",
    "\n",
    "print (c)\n",
    "\n",
    "#Space for asthethic\n",
    "\n",
    "print ()\n",
    "\n",
    "#Printing the variable e which contains all values divisible by 3\n",
    "\n",
    "print (e)\n",
    "\n",
    "#save array using the file name div_by_3.npy and printing that it is saved. \n",
    "np.save('div_by_3.npy', e)\n",
    "\n",
    "print (\"\\nThe work has been saved at 'div_by_3.npy' \")"
   ]
  },
  {
   "cell_type": "code",
   "execution_count": null,
   "id": "76a4e7e3-e8f0-4f1f-8291-d6257157826e",
   "metadata": {},
   "outputs": [],
   "source": []
  }
 ],
 "metadata": {
  "kernelspec": {
   "display_name": "Python 3 (ipykernel)",
   "language": "python",
   "name": "python3"
  },
  "language_info": {
   "codemirror_mode": {
    "name": "ipython",
    "version": 3
   },
   "file_extension": ".py",
   "mimetype": "text/x-python",
   "name": "python",
   "nbconvert_exporter": "python",
   "pygments_lexer": "ipython3",
   "version": "3.12.4"
  }
 },
 "nbformat": 4,
 "nbformat_minor": 5
}
